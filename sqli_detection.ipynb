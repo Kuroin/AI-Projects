{
  "cells": [
    {
      "cell_type": "markdown",
      "metadata": {
        "id": "view-in-github",
        "colab_type": "text"
      },
      "source": [
        "<a href=\"https://colab.research.google.com/github/Kuroin/AI-Projects/blob/main/sqli_detection.ipynb\" target=\"_parent\"><img src=\"https://colab.research.google.com/assets/colab-badge.svg\" alt=\"Open In Colab\"/></a>"
      ]
    },
    {
      "cell_type": "code",
      "execution_count": null,
      "metadata": {
        "colab": {
          "base_uri": "https://localhost:8080/"
        },
        "id": "qRmlcifxuegz",
        "outputId": "ad4f8b4b-3d79-4e3c-98f5-85aada82e006"
      },
      "outputs": [
        {
          "name": "stderr",
          "output_type": "stream",
          "text": [
            "[nltk_data] Downloading package punkt to /root/nltk_data...\n",
            "[nltk_data]   Package punkt is already up-to-date!\n",
            "[nltk_data] Downloading package stopwords to /root/nltk_data...\n",
            "[nltk_data]   Package stopwords is already up-to-date!\n",
            "[nltk_data] Downloading package wordnet to /root/nltk_data...\n",
            "[nltk_data]   Package wordnet is already up-to-date!\n"
          ]
        }
      ],
      "source": [
        "import pandas as pd\n",
        "from sklearn.model_selection import train_test_split\n",
        "from sklearn.feature_extraction.text import CountVectorizer\n",
        "import nltk\n",
        "nltk.download('punkt')\n",
        "nltk.download('stopwords')\n",
        "nltk.download('wordnet')\n",
        "from nltk.stem import PorterStemmer\n",
        "from nltk.stem import PorterStemmer\n",
        "from nltk.tokenize import sent_tokenize, word_tokenize\n",
        "from nltk.stem import WordNetLemmatizer\n",
        "from nltk.corpus import stopwords \n",
        "from nltk.tokenize import word_tokenize\n",
        "from nltk import ngrams\n",
        "from nltk.tokenize import sent_tokenize\n",
        "import tensorflow as tf\n",
        "from keras.models import Sequential\n",
        "from keras import layers\n",
        "from keras.preprocessing.text import Tokenizer\n",
        "from keras.wrappers.scikit_learn import KerasClassifier\n",
        "\n",
        "\n",
        "dt1 = pd.read_csv(\"sqliv2.csv\",encoding=\"utf-16-le\")\n",
        "dt2 = pd.read_csv(\"SQLiV3.csv\",encoding=\"utf-16-le\")\n",
        "\n",
        "\n",
        "dt = pd.concat([dt1,dt2])\n",
        "\n",
        "X = dt[\"Sentence\"]\n",
        "y = dt[\"Label\"]\n",
        "\n",
        "vectorizer = CountVectorizer( min_df=2, max_df=0.7, max_features=4096, stop_words=stopwords.words('english'))\n",
        "X = vectorizer.fit_transform(X.values.astype('U')).toarray()\n",
        "\n",
        "\n",
        "X.shape = (33761,64,64,1)\n",
        "X.shape\n",
        "\n",
        "X_train, X_test, y_train, y_test = train_test_split(X, y, test_size=0.2, random_state=42)\n",
        "\n",
        "trainX=X_train.copy()\n",
        "trainX.shape=(X_train.shape[0],trainX.shape[1]*trainX.shape[2])\n",
        "testX=X_test.copy()\n",
        "testX.shape=(testX.shape[0],testX.shape[1]*testX.shape[2])"
      ]
    },
    {
      "cell_type": "code",
      "execution_count": null,
      "metadata": {
        "id": "BSqVN_E9ybLY"
      },
      "outputs": [],
      "source": [
        "model=tf.keras.models.Sequential([\n",
        "    \n",
        "    tf.keras.layers.Conv2D(64, (3,3), activation=tf.nn.relu, input_shape=(64,64,1)),\n",
        "    tf.keras.layers.MaxPooling2D(2,2),\n",
        "    \n",
        "    tf.keras.layers.Conv2D(128,(3,3), activation=tf.nn.relu),\n",
        "    tf.keras.layers.MaxPooling2D(2,2),\n",
        "    \n",
        "    tf.keras.layers.Conv2D(256,(3,3), activation='relu'),\n",
        "    tf.keras.layers.MaxPooling2D(2,2),\n",
        "    \n",
        "    tf.keras.layers.Flatten(),\n",
        "    tf.keras.layers.Dense(256, activation='relu'),\n",
        "    tf.keras.layers.Dense(128,activation='relu'),\n",
        "    tf.keras.layers.Dense(64, activation=tf.nn.relu),\n",
        "    tf.keras.layers.Dense(1, activation='sigmoid')\n",
        "])"
      ]
    },
    {
      "cell_type": "code",
      "execution_count": null,
      "metadata": {
        "colab": {
          "base_uri": "https://localhost:8080/"
        },
        "id": "8li0pkG6zs-o",
        "outputId": "e8ef7399-dcac-4277-aae1-4cd0e2d06269"
      },
      "outputs": [
        {
          "name": "stdout",
          "output_type": "stream",
          "text": [
            "Model: \"sequential\"\n",
            "_________________________________________________________________\n",
            " Layer (type)                Output Shape              Param #   \n",
            "=================================================================\n",
            " conv2d (Conv2D)             (None, 62, 62, 64)        640       \n",
            "                                                                 \n",
            " max_pooling2d (MaxPooling2D  (None, 31, 31, 64)       0         \n",
            " )                                                               \n",
            "                                                                 \n",
            " conv2d_1 (Conv2D)           (None, 29, 29, 128)       73856     \n",
            "                                                                 \n",
            " max_pooling2d_1 (MaxPooling  (None, 14, 14, 128)      0         \n",
            " 2D)                                                             \n",
            "                                                                 \n",
            " conv2d_2 (Conv2D)           (None, 12, 12, 256)       295168    \n",
            "                                                                 \n",
            " max_pooling2d_2 (MaxPooling  (None, 6, 6, 256)        0         \n",
            " 2D)                                                             \n",
            "                                                                 \n",
            " flatten (Flatten)           (None, 9216)              0         \n",
            "                                                                 \n",
            " dense (Dense)               (None, 256)               2359552   \n",
            "                                                                 \n",
            " dense_1 (Dense)             (None, 128)               32896     \n",
            "                                                                 \n",
            " dense_2 (Dense)             (None, 64)                8256      \n",
            "                                                                 \n",
            " dense_3 (Dense)             (None, 1)                 65        \n",
            "                                                                 \n",
            "=================================================================\n",
            "Total params: 2,770,433\n",
            "Trainable params: 2,770,433\n",
            "Non-trainable params: 0\n",
            "_________________________________________________________________\n"
          ]
        }
      ],
      "source": [
        "model.compile(loss='binary_crossentropy', \n",
        "              optimizer='adam', \n",
        "              metrics=['accuracy'])\n",
        "model.summary()"
      ]
    },
    {
      "cell_type": "code",
      "execution_count": null,
      "metadata": {
        "colab": {
          "background_save": true,
          "base_uri": "https://localhost:8080/"
        },
        "id": "nv9VgNnnz46z",
        "outputId": "d65c4e6d-f1ff-4e6b-a718-322c8ffe9d59"
      },
      "outputs": [
        {
          "name": "stdout",
          "output_type": "stream",
          "text": [
            "Epoch 1/10\n",
            "211/211 [==============================] - 455s 2s/step - loss: 0.1921 - accuracy: 0.9381 - val_loss: 0.1313 - val_accuracy: 0.9606\n",
            "Epoch 2/10\n",
            "211/211 [==============================] - 451s 2s/step - loss: 0.1318 - accuracy: 0.9628 - val_loss: 0.1243 - val_accuracy: 0.9664\n",
            "Epoch 3/10\n",
            "211/211 [==============================] - 449s 2s/step - loss: 0.1243 - accuracy: 0.9654 - val_loss: 0.1185 - val_accuracy: 0.9661\n",
            "Epoch 4/10\n",
            "211/211 [==============================] - 449s 2s/step - loss: 0.1190 - accuracy: 0.9663 - val_loss: 0.1149 - val_accuracy: 0.9682\n",
            "Epoch 5/10\n",
            "211/211 [==============================] - 450s 2s/step - loss: 0.1174 - accuracy: 0.9677 - val_loss: 0.1182 - val_accuracy: 0.9683\n",
            "Epoch 6/10\n",
            "211/211 [==============================] - 451s 2s/step - loss: 0.1183 - accuracy: 0.9677 - val_loss: 0.1158 - val_accuracy: 0.9668\n",
            "Epoch 7/10\n",
            "211/211 [==============================] - 450s 2s/step - loss: 0.1135 - accuracy: 0.9691 - val_loss: 0.1147 - val_accuracy: 0.9682\n",
            "Epoch 8/10\n",
            "211/211 [==============================] - ETA: 0s - loss: 0.1104 - accuracy: 0.9706"
          ]
        }
      ],
      "source": [
        "classifier_nn = model.fit(X_train,y_train,\n",
        "                    epochs=10,\n",
        "                    verbose=True,\n",
        "                    validation_data=(X_test, y_test),\n",
        "                    batch_size=128)"
      ]
    },
    {
      "cell_type": "code",
      "execution_count": null,
      "metadata": {
        "id": "iKJ6qNeY0Am-"
      },
      "outputs": [],
      "source": [
        "def response(input_val): \n",
        "  input_val = [input_val]\n",
        "  input_val=vectorizer.transform(input_val).toarray()\n",
        "  input_val.shape=(1,64,64,1)\n",
        "  result=model.predict(input_val)\n",
        "  if result>0.5:\n",
        "    return(\"Zararlı sql kodu olabilir !!!\")\n",
        "  elif result<=0.5:\n",
        "    return(\"Güvenli gözüküyor.\")"
      ]
    },
    {
      "cell_type": "code",
      "execution_count": null,
      "metadata": {
        "colab": {
          "base_uri": "https://localhost:8080/"
        },
        "id": "iUip9a-e1v0J",
        "outputId": "71c58955-4104-4c5d-844e-970cf8f4ad90"
      },
      "outputs": [
        {
          "name": "stdout",
          "output_type": "stream",
          "text": [
            ">>>SELECT * FROM Users WHERE UserId = 105 OR 1=1;\n",
            "Zararlı sql kodu olabilir !!!\n",
            ">>>SELECT UserId, Name, Password FROM Users WHERE UserId = 105 or 1=1;\n",
            "Zararlı sql kodu olabilir !!!\n",
            ">>>SELECT * FROM Users WHERE Name =\"\" or \"\"=\"\" AND Pass =\"\" or \"\"=\"\"\n",
            "Zararlı sql kodu olabilir !!!\n",
            ">>>erciyes\n",
            "Güvenli gözüküyor.\n",
            ">>>Atakan\n",
            "Güvenli gözüküyor.\n",
            ">>>quit\n"
          ]
        }
      ],
      "source": [
        "while True:\n",
        "    input_value = input(\">>>\")\n",
        "    if input_value ==\"quit\":\n",
        "      break\n",
        "    else:\n",
        "      print(response(input_value))"
      ]
    },
    {
      "cell_type": "code",
      "execution_count": null,
      "metadata": {
        "id": "AhuagG0d4FCX"
      },
      "outputs": [],
      "source": []
    }
  ],
  "metadata": {
    "accelerator": "GPU",
    "colab": {
      "collapsed_sections": [],
      "provenance": [],
      "authorship_tag": "ABX9TyNZQANtpuNSBdU86LHBfTXP",
      "include_colab_link": true
    },
    "gpuClass": "standard",
    "kernelspec": {
      "display_name": "Python 3",
      "name": "python3"
    },
    "language_info": {
      "name": "python"
    }
  },
  "nbformat": 4,
  "nbformat_minor": 0
}